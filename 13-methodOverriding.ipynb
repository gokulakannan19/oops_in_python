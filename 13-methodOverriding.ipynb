{
  "nbformat": 4,
  "nbformat_minor": 0,
  "metadata": {
    "colab": {
      "provenance": [],
      "authorship_tag": "ABX9TyNNOSpAdpGH2wg6+kzEcdR+",
      "include_colab_link": true
    },
    "kernelspec": {
      "name": "python3",
      "display_name": "Python 3"
    },
    "language_info": {
      "name": "python"
    }
  },
  "cells": [
    {
      "cell_type": "markdown",
      "metadata": {
        "id": "view-in-github",
        "colab_type": "text"
      },
      "source": [
        "<a href=\"https://colab.research.google.com/github/gokulakannan19/oops_in_python/blob/main/methodOverriding.ipynb\" target=\"_parent\"><img src=\"https://colab.research.google.com/assets/colab-badge.svg\" alt=\"Open In Colab\"/></a>"
      ]
    },
    {
      "cell_type": "markdown",
      "source": [
        "METHOD OVDERRIDING\n",
        "\n",
        "    1. If we define any consructor in the child class it will replace the constructor in the base class\n",
        "    2. This is called as method overriding(replacing)\n",
        "    3. If we still need the base class constructor means we can use the built in super function super()\n",
        "\n",
        "    METHOD OVERRIDING MEANS REPLACING OR EXTENDING THE METHOD IN THE BASE CLASS\n"
      ],
      "metadata": {
        "id": "Cvl-7YLX76Pw"
      }
    },
    {
      "cell_type": "code",
      "execution_count": 5,
      "metadata": {
        "id": "bnlcvcM17eds"
      },
      "outputs": [],
      "source": [
        "class Animal:\n",
        "    def __init__(self):\n",
        "        print(\"Animal Constructor\")\n",
        "        self.age = 1\n",
        "\n",
        "    def eat(self):\n",
        "        print(\"eat\")"
      ]
    },
    {
      "cell_type": "code",
      "source": [
        "class Mammal(Animal):\n",
        "    def __init__(self):\n",
        "        print(\"Mammal constructor\")\n",
        "        self.weight = 2\n",
        "        super().__init__()\n",
        "\n",
        "    def walk(self):\n",
        "        print(\"walk\")"
      ],
      "metadata": {
        "id": "JxvxMoq_--Ls"
      },
      "execution_count": 6,
      "outputs": []
    },
    {
      "cell_type": "code",
      "source": [
        "m = Mammal()\n",
        "m.age\n",
        "m.weight"
      ],
      "metadata": {
        "colab": {
          "base_uri": "https://localhost:8080/"
        },
        "id": "zgDQoEV8_Hnn",
        "outputId": "bb123f16-1d64-496c-8c2a-366d59c0305d"
      },
      "execution_count": 8,
      "outputs": [
        {
          "output_type": "stream",
          "name": "stdout",
          "text": [
            "Mammal constructor\n",
            "Animal Constructor\n"
          ]
        },
        {
          "output_type": "execute_result",
          "data": {
            "text/plain": [
              "2"
            ]
          },
          "metadata": {},
          "execution_count": 8
        }
      ]
    }
  ]
}
