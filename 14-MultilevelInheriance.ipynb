{
  "nbformat": 4,
  "nbformat_minor": 0,
  "metadata": {
    "colab": {
      "provenance": [],
      "authorship_tag": "ABX9TyOcArxbB46Fp0kpReiV8xPF",
      "include_colab_link": true
    },
    "kernelspec": {
      "name": "python3",
      "display_name": "Python 3"
    },
    "language_info": {
      "name": "python"
    }
  },
  "cells": [
    {
      "cell_type": "markdown",
      "metadata": {
        "id": "view-in-github",
        "colab_type": "text"
      },
      "source": [
        "<a href=\"https://colab.research.google.com/github/gokulakannan19/oops_in_python/blob/main/MultilevelInheriance.ipynb\" target=\"_parent\"><img src=\"https://colab.research.google.com/assets/colab-badge.svg\" alt=\"Open In Colab\"/></a>"
      ]
    },
    {
      "cell_type": "markdown",
      "source": [
        "Multi level Inheritance\n",
        "\n",
        "    Inheritance is a good thing which prevents code duplication and helps to reuse things\n",
        "\n",
        "    \"But too much of good is bad\" -> \"Too much of inheritance increase complexity\"\n",
        "\n",
        "    If we child class inheriting from another child class means it is called as multi level inheritance\n",
        "\n",
        "    We should avoid it. Our level of inheritance should be one or two"
      ],
      "metadata": {
        "id": "utshiAVoAIC3"
      }
    },
    {
      "cell_type": "code",
      "execution_count": 1,
      "metadata": {
        "id": "YddUAeSNADCw"
      },
      "outputs": [],
      "source": [
        "class Animal:\n",
        "    def eat(self):\n",
        "        print(\"eat\")"
      ]
    },
    {
      "cell_type": "code",
      "source": [
        "class Bird(Animal):\n",
        "    def fly(self):\n",
        "        print(\"fly\")"
      ],
      "metadata": {
        "id": "8mTNrByGBQUo"
      },
      "execution_count": 2,
      "outputs": []
    },
    {
      "cell_type": "code",
      "source": [
        "class Chicken(Bird):\n",
        "    pass"
      ],
      "metadata": {
        "id": "kmACOdmQBV34"
      },
      "execution_count": 3,
      "outputs": []
    }
  ]
}
