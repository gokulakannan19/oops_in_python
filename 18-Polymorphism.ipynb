{
  "nbformat": 4,
  "nbformat_minor": 0,
  "metadata": {
    "colab": {
      "provenance": [],
      "authorship_tag": "ABX9TyNHLZBbBNxbBznNySthQVk6",
      "include_colab_link": true
    },
    "kernelspec": {
      "name": "python3",
      "display_name": "Python 3"
    },
    "language_info": {
      "name": "python"
    }
  },
  "cells": [
    {
      "cell_type": "markdown",
      "metadata": {
        "id": "view-in-github",
        "colab_type": "text"
      },
      "source": [
        "<a href=\"https://colab.research.google.com/github/gokulakannan19/oops_in_python/blob/main/Polymorphism.ipynb\" target=\"_parent\"><img src=\"https://colab.research.google.com/assets/colab-badge.svg\" alt=\"Open In Colab\"/></a>"
      ]
    },
    {
      "cell_type": "markdown",
      "source": [
        "POLYMORPHISM\n",
        "\n",
        "     Poly means many\n",
        "     morph means form"
      ],
      "metadata": {
        "id": "2ox_cdNuMrpl"
      }
    },
    {
      "cell_type": "code",
      "execution_count": 1,
      "metadata": {
        "id": "9aB4soTRMonI"
      },
      "outputs": [],
      "source": [
        "from abc import ABC, abstractmethod"
      ]
    },
    {
      "cell_type": "code",
      "source": [
        "class UIControl(ABC):\n",
        "\n",
        "    @abstractmethod\n",
        "    def draw(self):\n",
        "        pass"
      ],
      "metadata": {
        "id": "TImGxV4jONBT"
      },
      "execution_count": 2,
      "outputs": []
    },
    {
      "cell_type": "code",
      "source": [
        "class TextBox(UIControl):\n",
        "    def draw(self):\n",
        "        print(\"Textbox\")"
      ],
      "metadata": {
        "id": "zCrRdloAOVTF"
      },
      "execution_count": 3,
      "outputs": []
    },
    {
      "cell_type": "code",
      "source": [
        "class Dropdown(UIControl):\n",
        "    def draw(self):\n",
        "        print(\"Dropdown\")"
      ],
      "metadata": {
        "id": "IvNKvPNDObzD"
      },
      "execution_count": 4,
      "outputs": []
    },
    {
      "cell_type": "code",
      "source": [
        "def draw(controls):\n",
        "    for control in controls:\n",
        "        control.draw()"
      ],
      "metadata": {
        "id": "VnV678mZOfEv"
      },
      "execution_count": 5,
      "outputs": []
    },
    {
      "cell_type": "code",
      "source": [
        "TB = TextBox()\n",
        "DD = Dropdown()"
      ],
      "metadata": {
        "id": "zFJ5qf06OnJg"
      },
      "execution_count": 7,
      "outputs": []
    },
    {
      "cell_type": "code",
      "source": [
        "draw([TB, DD])"
      ],
      "metadata": {
        "colab": {
          "base_uri": "https://localhost:8080/"
        },
        "id": "KWmpA4TgOp7Z",
        "outputId": "1fa5b17d-9349-4a25-dd7f-6a026aa49ae5"
      },
      "execution_count": 8,
      "outputs": [
        {
          "output_type": "stream",
          "name": "stdout",
          "text": [
            "Textbox\n",
            "Dropdown\n"
          ]
        }
      ]
    }
  ]
}
