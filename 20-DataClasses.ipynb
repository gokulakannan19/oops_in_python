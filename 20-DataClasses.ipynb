{
  "nbformat": 4,
  "nbformat_minor": 0,
  "metadata": {
    "colab": {
      "provenance": [],
      "authorship_tag": "ABX9TyNpX2wwpSjqqkKi0MlUuPts",
      "include_colab_link": true
    },
    "kernelspec": {
      "name": "python3",
      "display_name": "Python 3"
    },
    "language_info": {
      "name": "python"
    }
  },
  "cells": [
    {
      "cell_type": "markdown",
      "metadata": {
        "id": "view-in-github",
        "colab_type": "text"
      },
      "source": [
        "<a href=\"https://colab.research.google.com/github/gokulakannan19/oops_in_python/blob/main/DataClasses.ipynb\" target=\"_parent\"><img src=\"https://colab.research.google.com/assets/colab-badge.svg\" alt=\"Open In Colab\"/></a>"
      ]
    },
    {
      "cell_type": "markdown",
      "source": [
        "DuckTyping\n",
        "\n",
        "    1. There will be some classes which don't have any methods\n",
        "    2. By default python compare objects based on where they are store\n",
        "    3. id() -> returns the address of the object\n",
        "    4. To compare objects we need to implement magic method __eq__\n",
        "    "
      ],
      "metadata": {
        "id": "dQjSWqf5Yw7W"
      }
    },
    {
      "cell_type": "code",
      "source": [
        "from collections import namedtuple"
      ],
      "metadata": {
        "id": "6tY1dX_RYwiO"
      },
      "execution_count": 3,
      "outputs": []
    },
    {
      "cell_type": "code",
      "execution_count": 5,
      "metadata": {
        "colab": {
          "base_uri": "https://localhost:8080/"
        },
        "id": "AKW3KacXYAOM",
        "outputId": "7a8c6a66-0193-45ec-8143-02311db4e20d"
      },
      "outputs": [
        {
          "output_type": "stream",
          "name": "stdout",
          "text": [
            "True\n"
          ]
        }
      ],
      "source": [
        "Point = namedtuple('Point', ['x', 'y'])\n",
        "point1 = Point(x=1, y=2)\n",
        "point2 = Point(x=1, y=2)\n",
        "print(point1==point2)"
      ]
    }
  ]
}
