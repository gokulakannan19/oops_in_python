{
  "nbformat": 4,
  "nbformat_minor": 0,
  "metadata": {
    "colab": {
      "provenance": [],
      "authorship_tag": "ABX9TyPZOew7b/1gloN9myKr1Fgo",
      "include_colab_link": true
    },
    "kernelspec": {
      "name": "python3",
      "display_name": "Python 3"
    },
    "language_info": {
      "name": "python"
    }
  },
  "cells": [
    {
      "cell_type": "markdown",
      "metadata": {
        "id": "view-in-github",
        "colab_type": "text"
      },
      "source": [
        "<a href=\"https://colab.research.google.com/github/gokulakannan19/oops_in_python/blob/main/ClassVsInstanceMethods.ipynb\" target=\"_parent\"><img src=\"https://colab.research.google.com/assets/colab-badge.svg\" alt=\"Open In Colab\"/></a>"
      ]
    },
    {
      "cell_type": "markdown",
      "source": [
        "CLASS METHODS VS INSTANCE METHODS\n",
        "\n",
        "INSTANCE METHODS\n",
        "1. All the methods that we have defined in the point class is called instance methods\n",
        "2. We can call them using the instance of a  class\n",
        "3. We use this whenever we need a object reference\n",
        "\n",
        "CLASS METHODS\n",
        "1. When we don't need object. We use class method\n",
        "2. If we need to create an object which include complex steps and repetetive, we can create it as a classmethod and create the object\n",
        "2. We refer it as factory method\n",
        "4. Because it creates a new object\n",
        "5. The first parameter of classmethod should be cls (by convention)\n",
        "\n",
        "\n",
        "How to define a method at the class level\n",
        "1. def zero(cls):\n",
        "2. cls is the first parameter of class method\n",
        "3. cls is the reference to class\n",
        "4. @classmethod is the decorator used to define class method\n",
        "\n"
      ],
      "metadata": {
        "id": "ruQ73GXPtehA"
      }
    },
    {
      "cell_type": "markdown",
      "source": [
        "Creating a class with class method and instance method"
      ],
      "metadata": {
        "id": "z_mPey4uvM5s"
      }
    },
    {
      "cell_type": "code",
      "execution_count": null,
      "metadata": {
        "id": "zK1f-djAZlSu"
      },
      "outputs": [],
      "source": [
        "class Point:\n",
        "  def __init__(self, x, y):\n",
        "    self.x = x\n",
        "    self.y = y\n",
        "\n",
        "  @classmethod\n",
        "  def zero(cls):\n",
        "    return cls(0, 0)\n",
        "\n",
        "  def draw(self):\n",
        "    print(f\"Point ({self.x}, {self.y})\")\n"
      ]
    },
    {
      "cell_type": "markdown",
      "source": [
        "calling a class method"
      ],
      "metadata": {
        "id": "7TlTpGRWv0sU"
      }
    },
    {
      "cell_type": "code",
      "source": [
        "point = Point.zero()\n",
        "point.draw()"
      ],
      "metadata": {
        "colab": {
          "base_uri": "https://localhost:8080/"
        },
        "id": "nYlrHVFWv6Zh",
        "outputId": "b31445d0-413a-4a8e-ba29-964083c78a4c"
      },
      "execution_count": null,
      "outputs": [
        {
          "output_type": "stream",
          "name": "stdout",
          "text": [
            "Point (0, 0)\n"
          ]
        }
      ]
    }
  ]
}
