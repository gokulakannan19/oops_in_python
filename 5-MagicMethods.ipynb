{
  "nbformat": 4,
  "nbformat_minor": 0,
  "metadata": {
    "colab": {
      "provenance": [],
      "authorship_tag": "ABX9TyMsOVlfDGjYMc0UPCkPmC5d",
      "include_colab_link": true
    },
    "kernelspec": {
      "name": "python3",
      "display_name": "Python 3"
    },
    "language_info": {
      "name": "python"
    }
  },
  "cells": [
    {
      "cell_type": "markdown",
      "metadata": {
        "id": "view-in-github",
        "colab_type": "text"
      },
      "source": [
        "<a href=\"https://colab.research.google.com/github/gokulakannan19/oops_in_python/blob/main/MagicMethods.ipynb\" target=\"_parent\"><img src=\"https://colab.research.google.com/assets/colab-badge.svg\" alt=\"Open In Colab\"/></a>"
      ]
    },
    {
      "cell_type": "markdown",
      "source": [
        "MAGIC METHODS\n",
        "\n",
        "1. Methods that have two underscores at the beginning and at end of the string.\n",
        "2. called automatically by python interpretor\n",
        "3. python3 magic methods\n",
        "4. It will be inherited from another objects\n",
        "\n",
        "\"__str__\" => returns name of the object\n",
        "useful when we try to convert a object to a string\n",
        "\n",
        "By default str will return module+classname+address in the memory\n",
        "\n",
        "We can overwrite the magicmethod"
      ],
      "metadata": {
        "id": "z5enT1FixSz9"
      }
    },
    {
      "cell_type": "code",
      "execution_count": null,
      "metadata": {
        "id": "dGORVq19xQd7"
      },
      "outputs": [],
      "source": [
        "class Point:\n",
        "  def __init__(self, x, y):\n",
        "    self.x = x\n",
        "    self.y = y\n",
        "\n",
        "  def __str__(self):\n",
        "    return f\"({self.x}, {self.y})\"\n",
        "\n",
        "  def draw(self):\n",
        "    print(f\"Point ({self.x}, {self.y})\"),"
      ]
    },
    {
      "cell_type": "code",
      "source": [
        "point = Point(1, 2)\n",
        "print(point)"
      ],
      "metadata": {
        "colab": {
          "base_uri": "https://localhost:8080/"
        },
        "id": "VIU1_db32Ml4",
        "outputId": "1c77e887-868b-4984-e37d-cd5a15983850"
      },
      "execution_count": null,
      "outputs": [
        {
          "output_type": "stream",
          "name": "stdout",
          "text": [
            "(1, 2)\n"
          ]
        }
      ]
    }
  ]
}
