{
  "nbformat": 4,
  "nbformat_minor": 0,
  "metadata": {
    "colab": {
      "provenance": [],
      "authorship_tag": "ABX9TyN++Ky8Ea8TO93p6aSvBmtz",
      "include_colab_link": true
    },
    "kernelspec": {
      "name": "python3",
      "display_name": "Python 3"
    },
    "language_info": {
      "name": "python"
    }
  },
  "cells": [
    {
      "cell_type": "markdown",
      "metadata": {
        "id": "view-in-github",
        "colab_type": "text"
      },
      "source": [
        "<a href=\"https://colab.research.google.com/github/gokulakannan19/oops_in_python/blob/main/perf_arithmetic_oper.ipynb\" target=\"_parent\"><img src=\"https://colab.research.google.com/assets/colab-badge.svg\" alt=\"Open In Colab\"/></a>"
      ]
    },
    {
      "cell_type": "markdown",
      "source": [
        "Perform arithmetic operations\n",
        "\n",
        "1. To perform arithmetic operations between two objects, we can use numeric magic methods\n",
        "  a. __add__\n",
        "  b. __sub__\n",
        "  c. __mul__\n",
        "  d. __div__"
      ],
      "metadata": {
        "id": "mms0WZE_-vLX"
      }
    },
    {
      "cell_type": "code",
      "execution_count": 9,
      "metadata": {
        "id": "DyBCTaig-rqk"
      },
      "outputs": [],
      "source": [
        "class Point:\n",
        "  def __init__(self, x, y):\n",
        "    self.x = x\n",
        "    self.y = y\n",
        "\n",
        "  def __add__(self, other):\n",
        "    return Point(self.x + other.x, self.y + other.y)\n",
        "\n",
        "  def __str__(self):\n",
        "    return f\"({self.x}, {self.y})\""
      ]
    },
    {
      "cell_type": "code",
      "source": [
        "point = Point(10, 20)\n",
        "another = Point(1, 2)"
      ],
      "metadata": {
        "id": "4TyOOqO__VEV"
      },
      "execution_count": 10,
      "outputs": []
    },
    {
      "cell_type": "code",
      "source": [
        "print(point+another)"
      ],
      "metadata": {
        "colab": {
          "base_uri": "https://localhost:8080/"
        },
        "id": "CvaH_QrL_eEg",
        "outputId": "e1eb3674-5c9b-4d4e-a1d8-5f44fbe21f4b"
      },
      "execution_count": 11,
      "outputs": [
        {
          "output_type": "stream",
          "name": "stdout",
          "text": [
            "(11, 22)\n"
          ]
        }
      ]
    }
  ]
}
