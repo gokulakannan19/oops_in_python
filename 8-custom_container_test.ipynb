{
  "nbformat": 4,
  "nbformat_minor": 0,
  "metadata": {
    "colab": {
      "provenance": [],
      "authorship_tag": "ABX9TyOp6qFX6kaTE/2HKU1k4ECb",
      "include_colab_link": true
    },
    "kernelspec": {
      "name": "python3",
      "display_name": "Python 3"
    },
    "language_info": {
      "name": "python"
    }
  },
  "cells": [
    {
      "cell_type": "markdown",
      "metadata": {
        "id": "view-in-github",
        "colab_type": "text"
      },
      "source": [
        "<a href=\"https://colab.research.google.com/github/gokulakannan19/oops_in_python/blob/main/custom_container_test.ipynb\" target=\"_parent\"><img src=\"https://colab.research.google.com/assets/colab-badge.svg\" alt=\"Open In Colab\"/></a>"
      ]
    },
    {
      "cell_type": "code",
      "execution_count": 33,
      "metadata": {
        "id": "dDVjmlHzTzQ6"
      },
      "outputs": [],
      "source": [
        "class TagCloud:\n",
        "  def __init__(self):\n",
        "    self.tags = {}\n",
        "\n",
        "  def add(self, tag):\n",
        "    self.tags[tag.lower()] = self.tags.get(tag.lower(), 0) + 1\n",
        "\n",
        "  def __getitem__(self, tag):\n",
        "    return self.tags.get(tag.lower(), 0)\n",
        "\n",
        "  def __setitem__(self, tag, count):\n",
        "    self.tags[tag.lower()] = count\n",
        "\n",
        "  def __len__(self):\n",
        "    return len(self.tags)\n",
        "\n",
        "  def __iter__(self):\n",
        "    return iter(self.tags)"
      ]
    },
    {
      "cell_type": "code",
      "source": [
        "cloud = TagCloud()\n",
        "cloud.add(\"Python\")\n",
        "cloud.add(\"SQL\")\n",
        "cloud.add(\"python\")\n",
        "print(cloud.tags)"
      ],
      "metadata": {
        "colab": {
          "base_uri": "https://localhost:8080/"
        },
        "id": "hpZerPZQUG8y",
        "outputId": "a8b7e136-adc9-4d0e-cbde-2ac71e378416"
      },
      "execution_count": 34,
      "outputs": [
        {
          "output_type": "stream",
          "name": "stdout",
          "text": [
            "{'python': 2, 'sql': 1}\n"
          ]
        }
      ]
    },
    {
      "cell_type": "code",
      "source": [
        "cloud[\"Python\"]"
      ],
      "metadata": {
        "colab": {
          "base_uri": "https://localhost:8080/"
        },
        "id": "zopyTa3DUwAp",
        "outputId": "4729841b-9fa0-46d4-95d4-858edb9f5bb7"
      },
      "execution_count": 35,
      "outputs": [
        {
          "output_type": "execute_result",
          "data": {
            "text/plain": [
              "2"
            ]
          },
          "metadata": {},
          "execution_count": 35
        }
      ]
    },
    {
      "cell_type": "code",
      "source": [
        "cloud[\"python\"] = 10\n",
        "cloud[\"python\"]"
      ],
      "metadata": {
        "colab": {
          "base_uri": "https://localhost:8080/"
        },
        "id": "HfnCLyFKVVIs",
        "outputId": "41521f64-b4d4-463c-e5fa-04d64dd3a941"
      },
      "execution_count": 36,
      "outputs": [
        {
          "output_type": "execute_result",
          "data": {
            "text/plain": [
              "10"
            ]
          },
          "metadata": {},
          "execution_count": 36
        }
      ]
    },
    {
      "cell_type": "code",
      "source": [
        "len(cloud)"
      ],
      "metadata": {
        "colab": {
          "base_uri": "https://localhost:8080/"
        },
        "id": "-51w1-9lVd9Y",
        "outputId": "5ef8fbb4-6baf-4d93-df00-e5a14359fd57"
      },
      "execution_count": 37,
      "outputs": [
        {
          "output_type": "execute_result",
          "data": {
            "text/plain": [
              "2"
            ]
          },
          "metadata": {},
          "execution_count": 37
        }
      ]
    },
    {
      "cell_type": "code",
      "source": [
        "for tag in cloud:\n",
        "  print(tag)"
      ],
      "metadata": {
        "colab": {
          "base_uri": "https://localhost:8080/"
        },
        "id": "w79MNSFtXEd8",
        "outputId": "3d6e8809-213d-4019-bd92-5acc8846f12a"
      },
      "execution_count": 38,
      "outputs": [
        {
          "output_type": "stream",
          "name": "stdout",
          "text": [
            "python\n",
            "sql\n"
          ]
        }
      ]
    }
  ]
}
