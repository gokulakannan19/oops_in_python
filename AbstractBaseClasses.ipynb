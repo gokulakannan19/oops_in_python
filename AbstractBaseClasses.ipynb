{
  "nbformat": 4,
  "nbformat_minor": 0,
  "metadata": {
    "colab": {
      "provenance": [],
      "authorship_tag": "ABX9TyO/yUsnt6FtBmwQX0Z8sEUR",
      "include_colab_link": true
    },
    "kernelspec": {
      "name": "python3",
      "display_name": "Python 3"
    },
    "language_info": {
      "name": "python"
    }
  },
  "cells": [
    {
      "cell_type": "markdown",
      "metadata": {
        "id": "view-in-github",
        "colab_type": "text"
      },
      "source": [
        "<a href=\"https://colab.research.google.com/github/gokulakannan19/oops_in_python/blob/main/AbstractBaseClasses.ipynb\" target=\"_parent\"><img src=\"https://colab.research.google.com/assets/colab-badge.svg\" alt=\"Open In Colab\"/></a>"
      ]
    },
    {
      "cell_type": "markdown",
      "source": [
        "ABSTRACT BASE CLASSES\n",
        "\n",
        "    1. In the below example we should not be able to create an object directly from the Stream class. Because the stream class is an abstract concept\n",
        "    2. Stream class is only for reuse\n",
        "    3. In file and network class, both of them have a common read method. IF we create a new instance tomorrow, it should also have the same name\n",
        "    4. Currently there is no way to enforce common interface between them\n",
        "    5. To solve the issues, we use abstract base class\n",
        "\n",
        "\n",
        "What is abstract base class and how to import\n",
        "\n",
        "    from abc import ABC, abstractmethod\n",
        "\n",
        "    To make it abstract class, we should inherit from ABC\n",
        "\n",
        "How to implement common interface\n",
        "\n",
        "    using @abstractmethod decorator\n",
        "\n",
        "    EG:\n",
        "\n",
        "        @abstractmethod\n",
        "        def read(self):\n",
        "            pass\n",
        "\n",
        "\n",
        "    Now every class should implement this method or else error will be thrown.\n",
        "\n",
        "    \n",
        "\n"
      ],
      "metadata": {
        "id": "B-JxnCDhIVtz"
      }
    },
    {
      "cell_type": "code",
      "source": [
        "from abc import ABC, abstractmethod"
      ],
      "metadata": {
        "id": "10MTR0w6LSNd"
      },
      "execution_count": 2,
      "outputs": []
    },
    {
      "cell_type": "code",
      "source": [
        "class InvalidOperationError(Exception):\n",
        "    pass"
      ],
      "metadata": {
        "id": "5T9Ff4cuKlpX"
      },
      "execution_count": 1,
      "outputs": []
    },
    {
      "cell_type": "code",
      "execution_count": 3,
      "metadata": {
        "id": "JTQKxZnbITTU"
      },
      "outputs": [],
      "source": [
        "class Stream(ABC):\n",
        "    def __init__(self):\n",
        "        self.opened = False\n",
        "\n",
        "    def open(self):\n",
        "        if self.opened:\n",
        "            raise InvalidOperationError(\"Stream is already opened\")\n",
        "        self.opened = True\n",
        "\n",
        "    def close(self):\n",
        "        if not self.opened:\n",
        "            raise InvalidOperationError(\"Stream is already closed\")\n",
        "        self.opened = False\n",
        "\n",
        "    @abstractmethod\n",
        "    def read(self):\n",
        "        pass"
      ]
    },
    {
      "cell_type": "code",
      "source": [
        "class FileStream(Stream):\n",
        "    def read(self):\n",
        "        print(\"Read from a file\")"
      ],
      "metadata": {
        "id": "aZ9ts93XLdff"
      },
      "execution_count": 4,
      "outputs": []
    },
    {
      "cell_type": "code",
      "source": [
        "class NetworkStream(Stream):\n",
        "    def read(self):\n",
        "        print(\"Read from a Network\")"
      ],
      "metadata": {
        "id": "W7hwKMhHLo7L"
      },
      "execution_count": 5,
      "outputs": []
    },
    {
      "cell_type": "code",
      "source": [
        "class MemoryStream(Stream):\n",
        "    pass\n",
        "    # def read(self):\n",
        "    #     print(\"Read from a file\")"
      ],
      "metadata": {
        "id": "zpw0jL4HLtI6"
      },
      "execution_count": null,
      "outputs": []
    },
    {
      "cell_type": "code",
      "source": [
        "sfile = FileStream()"
      ],
      "metadata": {
        "id": "iqWdYUVTLwNk"
      },
      "execution_count": 10,
      "outputs": []
    },
    {
      "cell_type": "code",
      "source": [
        "mfile = MemoryStream()"
      ],
      "metadata": {
        "colab": {
          "base_uri": "https://localhost:8080/",
          "height": 166
        },
        "id": "Y_MBA5whLy59",
        "outputId": "ed4c97dc-9914-4992-edda-57ec87daf7ac"
      },
      "execution_count": 11,
      "outputs": [
        {
          "output_type": "error",
          "ename": "TypeError",
          "evalue": "ignored",
          "traceback": [
            "\u001b[0;31m---------------------------------------------------------------------------\u001b[0m",
            "\u001b[0;31mTypeError\u001b[0m                                 Traceback (most recent call last)",
            "\u001b[0;32m<ipython-input-11-7c6055c31a63>\u001b[0m in \u001b[0;36m<cell line: 1>\u001b[0;34m()\u001b[0m\n\u001b[0;32m----> 1\u001b[0;31m \u001b[0mmfile\u001b[0m \u001b[0;34m=\u001b[0m \u001b[0mMemoryStream\u001b[0m\u001b[0;34m(\u001b[0m\u001b[0;34m)\u001b[0m\u001b[0;34m\u001b[0m\u001b[0;34m\u001b[0m\u001b[0m\n\u001b[0m",
            "\u001b[0;31mTypeError\u001b[0m: Can't instantiate abstract class MemoryStream with abstract method read"
          ]
        }
      ]
    },
    {
      "cell_type": "code",
      "source": [
        "streamfile = Stream()"
      ],
      "metadata": {
        "colab": {
          "base_uri": "https://localhost:8080/",
          "height": 166
        },
        "id": "Q8ekrLECL_Gb",
        "outputId": "2f68b10b-6d03-4be1-f947-8a9d3d664638"
      },
      "execution_count": 12,
      "outputs": [
        {
          "output_type": "error",
          "ename": "TypeError",
          "evalue": "ignored",
          "traceback": [
            "\u001b[0;31m---------------------------------------------------------------------------\u001b[0m",
            "\u001b[0;31mTypeError\u001b[0m                                 Traceback (most recent call last)",
            "\u001b[0;32m<ipython-input-12-737a86ed5063>\u001b[0m in \u001b[0;36m<cell line: 1>\u001b[0;34m()\u001b[0m\n\u001b[0;32m----> 1\u001b[0;31m \u001b[0mstreamfile\u001b[0m \u001b[0;34m=\u001b[0m \u001b[0mStream\u001b[0m\u001b[0;34m(\u001b[0m\u001b[0;34m)\u001b[0m\u001b[0;34m\u001b[0m\u001b[0;34m\u001b[0m\u001b[0m\n\u001b[0m",
            "\u001b[0;31mTypeError\u001b[0m: Can't instantiate abstract class Stream with abstract method read"
          ]
        }
      ]
    },
    {
      "cell_type": "code",
      "source": [],
      "metadata": {
        "id": "vo_U_Vi4MCIz"
      },
      "execution_count": null,
      "outputs": []
    }
  ]
}