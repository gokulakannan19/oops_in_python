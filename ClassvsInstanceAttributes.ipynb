{
  "nbformat": 4,
  "nbformat_minor": 0,
  "metadata": {
    "colab": {
      "provenance": [],
      "authorship_tag": "ABX9TyPnEny2sv5doriob34AzC3l",
      "include_colab_link": true
    },
    "kernelspec": {
      "name": "python3",
      "display_name": "Python 3"
    },
    "language_info": {
      "name": "python"
    }
  },
  "cells": [
    {
      "cell_type": "markdown",
      "metadata": {
        "id": "view-in-github",
        "colab_type": "text"
      },
      "source": [
        "<a href=\"https://colab.research.google.com/github/gokulakannan19/oops_in_python/blob/main/ClassvsInstanceAttributes.ipynb\" target=\"_parent\"><img src=\"https://colab.research.google.com/assets/colab-badge.svg\" alt=\"Open In Colab\"/></a>"
      ]
    },
    {
      "cell_type": "markdown",
      "source": [
        "CLASS VS INSTANCE ATTRIBUTES\n",
        "\n",
        "1. In the last lecture, whenever we create a new object, attribute will be initialized because it is defined in constructor\n",
        "2. We can also create attributes after the object is created\n",
        "\n",
        "Instance Attributes =>\n",
        "1. All the attributes that belong to an object.\n",
        "2. It will change from one object to another object.\n",
        "\n",
        "Class Attributes:\n",
        "1. Attributes that are define at class level.\n",
        "2. They are same for all the objects\n",
        "3. Shared by all the instances\n",
        "4. It will be declared in the body of the class\n",
        "5. We can use either object or class to access the attribute\n",
        "6. It can be changed and it will be applied to all objects\n",
        "\n",
        "Most of the time, we will be using instance attributes.\n",
        "\n"
      ],
      "metadata": {
        "id": "pbgMdDTVWIT2"
      }
    },
    {
      "cell_type": "markdown",
      "source": [
        "Creating a class"
      ],
      "metadata": {
        "id": "6TILv9JOYj3h"
      }
    },
    {
      "cell_type": "code",
      "source": [
        "class Point:\n",
        "\n",
        "  default_color = \"red\"\n",
        "\n",
        "  def __init__(self, x, y):\n",
        "    self.x = x\n",
        "    self.y = y\n",
        "\n",
        "  def draw(self):\n",
        "    print(f\"Point ({self.x}, {self.y})\")\n"
      ],
      "metadata": {
        "id": "e_8YVzoIYaWu"
      },
      "execution_count": 9,
      "outputs": []
    },
    {
      "cell_type": "code",
      "execution_count": 10,
      "metadata": {
        "colab": {
          "base_uri": "https://localhost:8080/"
        },
        "id": "29z3dU1UYW2T",
        "outputId": "b5d1c95f-dc02-4d36-fee5-15bf96eb4e14"
      },
      "outputs": [
        {
          "output_type": "stream",
          "name": "stdout",
          "text": [
            "red\n"
          ]
        }
      ],
      "source": [
        "print(Point.default_color)"
      ]
    },
    {
      "cell_type": "markdown",
      "source": [
        "Changing the value of default color"
      ],
      "metadata": {
        "id": "5D5fdduZYvAn"
      }
    },
    {
      "cell_type": "code",
      "source": [
        "Point.default_color = \"yellow\""
      ],
      "metadata": {
        "id": "1DZbLRC6YyN9"
      },
      "execution_count": 11,
      "outputs": []
    },
    {
      "cell_type": "markdown",
      "source": [
        "Create objects"
      ],
      "metadata": {
        "id": "bHeBnCZpY0VH"
      }
    },
    {
      "cell_type": "code",
      "source": [
        "point = Point(1, 2)\n",
        "another = Point(2, 3)"
      ],
      "metadata": {
        "id": "7plOrDbNY4BF"
      },
      "execution_count": 12,
      "outputs": []
    },
    {
      "cell_type": "markdown",
      "source": [
        "access class attribute via object"
      ],
      "metadata": {
        "id": "x3Rgj6mXY9nx"
      }
    },
    {
      "cell_type": "code",
      "source": [
        "print(point.default_color)\n",
        "print(another.default_color)"
      ],
      "metadata": {
        "colab": {
          "base_uri": "https://localhost:8080/"
        },
        "id": "QglY-xWKY_Xy",
        "outputId": "fca665ba-f8fe-480a-e80c-d11262912bc1"
      },
      "execution_count": 13,
      "outputs": [
        {
          "output_type": "stream",
          "name": "stdout",
          "text": [
            "yellow\n",
            "yellow\n"
          ]
        }
      ]
    }
  ]
}