{
  "nbformat": 4,
  "nbformat_minor": 0,
  "metadata": {
    "colab": {
      "provenance": [],
      "authorship_tag": "ABX9TyMEznmsPqgNq2LATV2WIKbB",
      "include_colab_link": true
    },
    "kernelspec": {
      "name": "python3",
      "display_name": "Python 3"
    },
    "language_info": {
      "name": "python"
    }
  },
  "cells": [
    {
      "cell_type": "markdown",
      "metadata": {
        "id": "view-in-github",
        "colab_type": "text"
      },
      "source": [
        "<a href=\"https://colab.research.google.com/github/gokulakannan19/oops_in_python/blob/main/ExtendingBuiltInTypes.ipynb\" target=\"_parent\"><img src=\"https://colab.research.google.com/assets/colab-badge.svg\" alt=\"Open In Colab\"/></a>"
      ]
    },
    {
      "cell_type": "markdown",
      "source": [
        "Extending Built in Types\n",
        "\n",
        "    1. In python we can also use inheritance with built in types"
      ],
      "metadata": {
        "id": "3QnafbErWiQv"
      }
    },
    {
      "cell_type": "code",
      "execution_count": 1,
      "metadata": {
        "id": "WW9FaaA_Wf2F"
      },
      "outputs": [],
      "source": [
        "class Text(str):\n",
        "    def duplicate(self):\n",
        "        return self + self"
      ]
    },
    {
      "cell_type": "code",
      "source": [
        "text = Text(\"Python\")\n",
        "print(text.upper())\n",
        "print(text.duplicate())"
      ],
      "metadata": {
        "colab": {
          "base_uri": "https://localhost:8080/"
        },
        "id": "1pEeBD8CXZbW",
        "outputId": "3cd7e51b-b503-49a5-9144-aa3f54e46c72"
      },
      "execution_count": 2,
      "outputs": [
        {
          "output_type": "stream",
          "name": "stdout",
          "text": [
            "PYTHON\n",
            "PythonPython\n"
          ]
        }
      ]
    },
    {
      "cell_type": "code",
      "source": [
        "class TrackableList(list):\n",
        "    def append(self, object):\n",
        "        print(\"Append called\")\n",
        "        super().append(object)"
      ],
      "metadata": {
        "id": "kOTDmLVDXh2Q"
      },
      "execution_count": 3,
      "outputs": []
    },
    {
      "cell_type": "code",
      "source": [
        "l1 = TrackableList()\n",
        "l1.append(\"1\")"
      ],
      "metadata": {
        "colab": {
          "base_uri": "https://localhost:8080/"
        },
        "id": "5gh1vRbzXrBm",
        "outputId": "13c0ec7b-20a2-42e3-e62c-cf87bf4dfd27"
      },
      "execution_count": 5,
      "outputs": [
        {
          "output_type": "stream",
          "name": "stdout",
          "text": [
            "Append called\n"
          ]
        }
      ]
    }
  ]
}