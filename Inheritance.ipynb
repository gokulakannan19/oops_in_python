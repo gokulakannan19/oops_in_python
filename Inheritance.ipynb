{
  "nbformat": 4,
  "nbformat_minor": 0,
  "metadata": {
    "colab": {
      "provenance": [],
      "authorship_tag": "ABX9TyMTYyy0T6IX7W3ML81K8nBv",
      "include_colab_link": true
    },
    "kernelspec": {
      "name": "python3",
      "display_name": "Python 3"
    },
    "language_info": {
      "name": "python"
    }
  },
  "cells": [
    {
      "cell_type": "markdown",
      "metadata": {
        "id": "view-in-github",
        "colab_type": "text"
      },
      "source": [
        "<a href=\"https://colab.research.google.com/github/gokulakannan19/oops_in_python/blob/main/Inheritance.ipynb\" target=\"_parent\"><img src=\"https://colab.research.google.com/assets/colab-badge.svg\" alt=\"Open In Colab\"/></a>"
      ]
    },
    {
      "cell_type": "markdown",
      "source": [
        "WHY WE NEED INHERITANCE\n",
        "\n",
        "    1. In programming we should follow the DRY condition (Don't Repeat Yourself)\n",
        "    2. Because if there is a bug we need to fix it everywhere or if need to modify means we need to modify in so many places. So we follow dry principle\n",
        "    3. It can be achieved by either inheritance or composition.\n",
        "\n",
        "INHERITANCE\n",
        "\n",
        "    1. It is a mechanism that allows us to define the common functions in one class and then inherit them in other classes\n",
        "    2. Parent class or Base class and child class  or sub class will be there\n",
        "    3. Child class will have the functions of base class\n",
        "    4. Inheritance is not only for methods we can also inherit attributes.\n",
        "\n"
      ],
      "metadata": {
        "id": "_5rHOLIWgJpv"
      }
    },
    {
      "cell_type": "code",
      "execution_count": 1,
      "metadata": {
        "id": "4RrYSKSFfkbZ"
      },
      "outputs": [],
      "source": [
        "class Animal:\n",
        "    def __init__(self):\n",
        "        self.age = 1\n",
        "\n",
        "    def eat(self):\n",
        "        print(\"Eat\")"
      ]
    },
    {
      "cell_type": "code",
      "source": [
        "class Mammal(Animal):\n",
        "    def walk(self):\n",
        "        print(\"walk\")"
      ],
      "metadata": {
        "id": "U6H8dZR3iIyz"
      },
      "execution_count": 4,
      "outputs": []
    },
    {
      "cell_type": "code",
      "source": [
        "class Fish(Animal):\n",
        "    def swim(self):\n",
        "        print(\"swim\")"
      ],
      "metadata": {
        "id": "jw8Kcm_ziPoY"
      },
      "execution_count": 3,
      "outputs": []
    },
    {
      "cell_type": "code",
      "source": [
        "m = Mammal()"
      ],
      "metadata": {
        "id": "c80nJkDMidNT"
      },
      "execution_count": 5,
      "outputs": []
    },
    {
      "cell_type": "code",
      "source": [
        "m.age"
      ],
      "metadata": {
        "colab": {
          "base_uri": "https://localhost:8080/"
        },
        "id": "0wu36u3VigRU",
        "outputId": "58319402-1fba-4861-9bdc-8c749672ad2f"
      },
      "execution_count": 7,
      "outputs": [
        {
          "output_type": "execute_result",
          "data": {
            "text/plain": [
              "1"
            ]
          },
          "metadata": {},
          "execution_count": 7
        }
      ]
    },
    {
      "cell_type": "code",
      "source": [
        "m.eat()"
      ],
      "metadata": {
        "colab": {
          "base_uri": "https://localhost:8080/"
        },
        "id": "s__hhYuUih4p",
        "outputId": "4292d30e-8e9e-4b8c-e4cb-89916474976e"
      },
      "execution_count": 8,
      "outputs": [
        {
          "output_type": "stream",
          "name": "stdout",
          "text": [
            "Eat\n"
          ]
        }
      ]
    },
    {
      "cell_type": "code",
      "source": [],
      "metadata": {
        "id": "ZdjAdiCWinev"
      },
      "execution_count": null,
      "outputs": []
    }
  ]
}