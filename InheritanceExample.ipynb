{
  "nbformat": 4,
  "nbformat_minor": 0,
  "metadata": {
    "colab": {
      "provenance": [],
      "authorship_tag": "ABX9TyMZmYOpGmcHgNS+aUf7e5Vf",
      "include_colab_link": true
    },
    "kernelspec": {
      "name": "python3",
      "display_name": "Python 3"
    },
    "language_info": {
      "name": "python"
    }
  },
  "cells": [
    {
      "cell_type": "markdown",
      "metadata": {
        "id": "view-in-github",
        "colab_type": "text"
      },
      "source": [
        "<a href=\"https://colab.research.google.com/github/gokulakannan19/oops_in_python/blob/main/InheritanceExample.ipynb\" target=\"_parent\"><img src=\"https://colab.research.google.com/assets/colab-badge.svg\" alt=\"Open In Colab\"/></a>"
      ]
    },
    {
      "cell_type": "code",
      "source": [
        "class InvalidOperationError(Exception):\n",
        "    pass"
      ],
      "metadata": {
        "id": "-KUFtp8sHaD7"
      },
      "execution_count": 3,
      "outputs": []
    },
    {
      "cell_type": "code",
      "execution_count": 4,
      "metadata": {
        "id": "NZkcgdU-FcOU"
      },
      "outputs": [],
      "source": [
        "class Stream:\n",
        "    def __init__(self):\n",
        "        self.opened = False\n",
        "\n",
        "    def open(self):\n",
        "        if self.opened:\n",
        "            raise InvalidOperationError(\"Stream is already opened\")\n",
        "        self.opened = True\n",
        "\n",
        "    def close(self):\n",
        "        if not self.opened:\n",
        "            raise InvalidOperationError(\"Stream is alread closed\")\n",
        "        self.opened = False"
      ]
    },
    {
      "cell_type": "code",
      "source": [
        "def FileStream(Stream):\n",
        "    def read(self):\n",
        "        print(\"Read from a file\")"
      ],
      "metadata": {
        "id": "NQkPRVhGHyqp"
      },
      "execution_count": 5,
      "outputs": []
    },
    {
      "cell_type": "code",
      "source": [
        "def NetworkStream(Stream):\n",
        "    def read(self):\n",
        "        print(\"Read from a network\")"
      ],
      "metadata": {
        "id": "8lqSgg-nH6kc"
      },
      "execution_count": 6,
      "outputs": []
    }
  ]
}