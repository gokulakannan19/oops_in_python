{
  "nbformat": 4,
  "nbformat_minor": 0,
  "metadata": {
    "colab": {
      "provenance": [],
      "authorship_tag": "ABX9TyOeSEfuBAhDaOyqrisQXRJo",
      "include_colab_link": true
    },
    "kernelspec": {
      "name": "python3",
      "display_name": "Python 3"
    },
    "language_info": {
      "name": "python"
    }
  },
  "cells": [
    {
      "cell_type": "markdown",
      "metadata": {
        "id": "view-in-github",
        "colab_type": "text"
      },
      "source": [
        "<a href=\"https://colab.research.google.com/github/gokulakannan19/oops_in_python/blob/main/MultipleInheritance.ipynb\" target=\"_parent\"><img src=\"https://colab.research.google.com/assets/colab-badge.svg\" alt=\"Open In Colab\"/></a>"
      ]
    },
    {
      "cell_type": "markdown",
      "source": [
        "Multiple Inheritance\n",
        "\n",
        "    1. In python a class can have a multiple base classes\n",
        "    2. This is called as multiple inheritance\n",
        "    3. Similar to multilevel it also produce issue if we don't use it properly\n",
        "    4. If the two parent classed do not have anything in common, it is goog to have multiple inheritance\n"
      ],
      "metadata": {
        "id": "0yHPDqqACpsY"
      }
    },
    {
      "cell_type": "markdown",
      "source": [
        "Example of bad multiple inheritance"
      ],
      "metadata": {
        "id": "iCmYD75jD0g1"
      }
    },
    {
      "cell_type": "code",
      "execution_count": 2,
      "metadata": {
        "colab": {
          "base_uri": "https://localhost:8080/"
        },
        "id": "FfvRh2xRCm-I",
        "outputId": "2fdf723a-fcfe-4862-aa01-698daf6fac8a"
      },
      "outputs": [
        {
          "output_type": "stream",
          "name": "stdout",
          "text": [
            "Employee greet\n"
          ]
        }
      ],
      "source": [
        "class Employee:\n",
        "    def greet(self):\n",
        "        print(\"Employee greet\")\n",
        "\n",
        "class Person:\n",
        "    def greet(self):\n",
        "        print(\"Person greet\")\n",
        "\n",
        "class Manager(Employee, Person):\n",
        "    pass\n",
        "\n",
        "m = Manager()\n",
        "m.greet()"
      ]
    },
    {
      "cell_type": "markdown",
      "source": [
        "In the above example both of the base class have the common method"
      ],
      "metadata": {
        "id": "g9_f9qEvELn0"
      }
    },
    {
      "cell_type": "markdown",
      "source": [
        "Example of good multiple inheritance"
      ],
      "metadata": {
        "id": "rXxd4SCEEPRd"
      }
    },
    {
      "cell_type": "code",
      "source": [
        "class Flyer:\n",
        "    def fly(self):\n",
        "        print(\"Fly\")\n",
        "\n",
        "class Swimmer:\n",
        "    def swim(self):\n",
        "        print(\"swim\")\n",
        "\n",
        "class FlyingFish(Flyer, Swimmer):\n",
        "    pass"
      ],
      "metadata": {
        "id": "VadDG7qDEUiP"
      },
      "execution_count": 3,
      "outputs": []
    }
  ]
}