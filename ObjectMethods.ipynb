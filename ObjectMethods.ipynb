{
  "nbformat": 4,
  "nbformat_minor": 0,
  "metadata": {
    "colab": {
      "provenance": [],
      "authorship_tag": "ABX9TyMT31n6jnXnzC1AZ2HzET76",
      "include_colab_link": true
    },
    "kernelspec": {
      "name": "python3",
      "display_name": "Python 3"
    },
    "language_info": {
      "name": "python"
    }
  },
  "cells": [
    {
      "cell_type": "markdown",
      "metadata": {
        "id": "view-in-github",
        "colab_type": "text"
      },
      "source": [
        "<a href=\"https://colab.research.google.com/github/gokulakannan19/oops_in_python/blob/main/ObjectMethods.ipynb\" target=\"_parent\"><img src=\"https://colab.research.google.com/assets/colab-badge.svg\" alt=\"Open In Colab\"/></a>"
      ]
    },
    {
      "cell_type": "markdown",
      "source": [
        "WHY WE NEED INHERITANCE\n",
        "\n",
        "    1. In programming we should follow the DRY condition (Don't Repeat Yourself)\n",
        "    2. Because if there is a bug we need to fix it everywhere or if need to modify means we need to modify in so many places. So we follow dry principle\n",
        "    3. It can be achieved by either inheritance or composition.\n",
        "\n",
        "INHERITANCE\n",
        "\n",
        "    1. It is a mechanism that allows us to define the common functions in one class and then inherit them in other classes\n",
        "    2. Parent class or Base class and child class  or sub class will be there\n",
        "    3. Child class will have the functions of base class\n",
        "    4. Inheritance is not only for methods we can also inherit attributes.\n",
        "\n"
      ],
      "metadata": {
        "id": "_5rHOLIWgJpv"
      }
    },
    {
      "cell_type": "markdown",
      "source": [
        "Useful built in functions\n",
        "\n",
        "    1. isinstance = to check whether the object belong to that class\n",
        "        It return true if the class is either its own class or parent class\n",
        "\n",
        "    2. The parent class defined is also inherited from another class called OBJECT\n",
        "\n",
        "    3. OBJECT is the base class of all classes either directly or indirectly\n",
        "\n",
        "    4. we can also create a new object using the OBJECT class\n",
        "\n",
        "    4. issubclass(child, parent) => to check whether the child class derives os inherit from the parent class"
      ],
      "metadata": {
        "id": "GOX5OicLj6sr"
      }
    },
    {
      "cell_type": "code",
      "execution_count": 2,
      "metadata": {
        "id": "4RrYSKSFfkbZ"
      },
      "outputs": [],
      "source": [
        "class Animal:\n",
        "    def __init__(self):\n",
        "        self.age = 1\n",
        "\n",
        "    def eat(self):\n",
        "        print(\"Eat\")"
      ]
    },
    {
      "cell_type": "code",
      "source": [
        "class Mammal(Animal):\n",
        "    def walk(self):\n",
        "        print(\"walk\")"
      ],
      "metadata": {
        "id": "U6H8dZR3iIyz"
      },
      "execution_count": 3,
      "outputs": []
    },
    {
      "cell_type": "code",
      "source": [
        "class Fish(Animal):\n",
        "    def swim(self):\n",
        "        print(\"swim\")"
      ],
      "metadata": {
        "id": "jw8Kcm_ziPoY"
      },
      "execution_count": 4,
      "outputs": []
    },
    {
      "cell_type": "code",
      "source": [
        "m = Mammal()"
      ],
      "metadata": {
        "id": "c80nJkDMidNT"
      },
      "execution_count": 5,
      "outputs": []
    },
    {
      "cell_type": "code",
      "source": [
        "m.age"
      ],
      "metadata": {
        "colab": {
          "base_uri": "https://localhost:8080/"
        },
        "id": "0wu36u3VigRU",
        "outputId": "627fff45-fb77-40cf-86b6-87f88cb5759b"
      },
      "execution_count": 6,
      "outputs": [
        {
          "output_type": "execute_result",
          "data": {
            "text/plain": [
              "1"
            ]
          },
          "metadata": {},
          "execution_count": 6
        }
      ]
    },
    {
      "cell_type": "code",
      "source": [
        "m.eat()"
      ],
      "metadata": {
        "colab": {
          "base_uri": "https://localhost:8080/"
        },
        "id": "s__hhYuUih4p",
        "outputId": "71cd3107-17a8-4c97-a402-48a5d4134c58"
      },
      "execution_count": 7,
      "outputs": [
        {
          "output_type": "stream",
          "name": "stdout",
          "text": [
            "Eat\n"
          ]
        }
      ]
    },
    {
      "cell_type": "code",
      "source": [
        "print(isinstance(m, Mammal))\n",
        "print(isinstance(m, Animal))\n",
        "print(isinstance(m, object))"
      ],
      "metadata": {
        "id": "ZdjAdiCWinev",
        "colab": {
          "base_uri": "https://localhost:8080/"
        },
        "outputId": "4fa1f738-4806-44a0-89af-9f748dbcd81c"
      },
      "execution_count": 10,
      "outputs": [
        {
          "output_type": "stream",
          "name": "stdout",
          "text": [
            "True\n",
            "True\n",
            "True\n"
          ]
        }
      ]
    },
    {
      "cell_type": "code",
      "source": [
        "o = object()"
      ],
      "metadata": {
        "id": "BhqNuU0Jk119"
      },
      "execution_count": 11,
      "outputs": []
    },
    {
      "cell_type": "code",
      "source": [
        "print(issubclass(Animal, object))"
      ],
      "metadata": {
        "colab": {
          "base_uri": "https://localhost:8080/"
        },
        "id": "rNC1DfJPlR_v",
        "outputId": "0b1665dd-b8b1-4981-a6e7-4f4b993a7249"
      },
      "execution_count": 14,
      "outputs": [
        {
          "output_type": "stream",
          "name": "stdout",
          "text": [
            "True\n"
          ]
        }
      ]
    },
    {
      "cell_type": "code",
      "source": [],
      "metadata": {
        "id": "Ad11toXkl0J1"
      },
      "execution_count": null,
      "outputs": []
    }
  ]
}