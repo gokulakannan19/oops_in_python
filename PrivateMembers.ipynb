{
  "nbformat": 4,
  "nbformat_minor": 0,
  "metadata": {
    "colab": {
      "provenance": [],
      "authorship_tag": "ABX9TyOarUO3G3X+NOunTneI/1xd",
      "include_colab_link": true
    },
    "kernelspec": {
      "name": "python3",
      "display_name": "Python 3"
    },
    "language_info": {
      "name": "python"
    }
  },
  "cells": [
    {
      "cell_type": "markdown",
      "metadata": {
        "id": "view-in-github",
        "colab_type": "text"
      },
      "source": [
        "<a href=\"https://colab.research.google.com/github/gokulakannan19/oops_in_python/blob/main/PrivateMembers.ipynb\" target=\"_parent\"><img src=\"https://colab.research.google.com/assets/colab-badge.svg\" alt=\"Open In Colab\"/></a>"
      ]
    },
    {
      "cell_type": "markdown",
      "source": [
        "Private Members\n",
        "\n",
        "1. We need to hide some attribute from outside so we cannot use it\n",
        "2. Prefix the attribute or method with two underlines.\n",
        "3. Technically it can be accessed\n",
        "4. So it is not based on security, it is just like a warning\n",
        "4. __dict__ => holds all the attributes in the class\n",
        "5. In python we don't have the concept of private members\n"
      ],
      "metadata": {
        "id": "QzUmoBS3a9zn"
      }
    },
    {
      "cell_type": "code",
      "source": [
        "class TagCloud:\n",
        "  def __init__(self):\n",
        "    self.__tags = {}\n",
        "\n",
        "  def add(self, tag):\n",
        "    self.__tags[tag.lower()] = self.__tags.get(tag.lower(), 0) + 1\n",
        "\n",
        "  def __getitem__(self, tag):\n",
        "    return self.__tags[tag.lower()]"
      ],
      "metadata": {
        "id": "zElWNIuEeSUO"
      },
      "execution_count": 7,
      "outputs": []
    },
    {
      "cell_type": "code",
      "source": [
        "cloud = TagCloud()\n",
        "cloud.add(\"PYTHON\")\n",
        "cloud.add(\"PYTHON\")\n",
        "cloud.add(\"PYTHON\")\n",
        "print(cloud[\"PYTHON\"])"
      ],
      "metadata": {
        "colab": {
          "base_uri": "https://localhost:8080/"
        },
        "id": "sZ_mQdtSei1H",
        "outputId": "c16217ae-9575-43f7-8cbf-a10ce632bb70"
      },
      "execution_count": 8,
      "outputs": [
        {
          "output_type": "stream",
          "name": "stdout",
          "text": [
            "3\n"
          ]
        }
      ]
    },
    {
      "cell_type": "code",
      "source": [
        "# print(cloud.__tags[\"PYTHON\"])\n",
        "print(cloud.__dict__)"
      ],
      "metadata": {
        "id": "fiDsh2fneu0U",
        "colab": {
          "base_uri": "https://localhost:8080/"
        },
        "outputId": "c204fb5c-ca91-4590-cb09-41b9d0277720"
      },
      "execution_count": 12,
      "outputs": [
        {
          "output_type": "stream",
          "name": "stdout",
          "text": [
            "{'_TagCloud__tags': {'python': 3}}\n"
          ]
        }
      ]
    },
    {
      "cell_type": "code",
      "source": [
        "print(cloud._TagCloud__tags)"
      ],
      "metadata": {
        "colab": {
          "base_uri": "https://localhost:8080/"
        },
        "id": "YZRtfkKYH1d4",
        "outputId": "34a56d4b-3bfb-438d-c821-c92d45ae096c"
      },
      "execution_count": 13,
      "outputs": [
        {
          "output_type": "stream",
          "name": "stdout",
          "text": [
            "{'python': 3}\n"
          ]
        }
      ]
    }
  ]
}