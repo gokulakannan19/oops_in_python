{
  "nbformat": 4,
  "nbformat_minor": 0,
  "metadata": {
    "colab": {
      "provenance": [],
      "authorship_tag": "ABX9TyMAhSDdDL9OB6Fo7oVNJ9sO",
      "include_colab_link": true
    },
    "kernelspec": {
      "name": "python3",
      "display_name": "Python 3"
    },
    "language_info": {
      "name": "python"
    }
  },
  "cells": [
    {
      "cell_type": "markdown",
      "metadata": {
        "id": "view-in-github",
        "colab_type": "text"
      },
      "source": [
        "<a href=\"https://colab.research.google.com/github/gokulakannan19/oops_in_python/blob/main/comparing_objects.ipynb\" target=\"_parent\"><img src=\"https://colab.research.google.com/assets/colab-badge.svg\" alt=\"Open In Colab\"/></a>"
      ]
    },
    {
      "cell_type": "markdown",
      "source": [
        "Comparing OBJECTs\n",
        "\n",
        "1. When we need to compare two objects by default it will be false\n",
        "2. Because compares the references of addresses of these two objects in memory\n",
        "\n",
        "To solve the problem we need a magic method\n",
        "1. __eq__ = equality (can be called by ==\n",
        "2. __ne__ = not equal\n",
        "3. __lt__ = less than\n",
        "4. __gt__ = greater than\n",
        "\n",
        "greater than operator is not supported between instances. So use magic method\n",
        "\n",
        "def __gt__(self, other)\n",
        "\n"
      ],
      "metadata": {
        "id": "IYHuEukR28X2"
      }
    },
    {
      "cell_type": "code",
      "source": [
        "class Point:\n",
        "  def __init__(self, x, y):\n",
        "    self.x= x\n",
        "    self.y= y\n",
        "\n",
        "  def __eq__(self, other):\n",
        "    return (self.x == other.x) and (self.y == other.y)\n",
        "\n",
        "  def __gt__(self, other):\n",
        "    return (self.x >= other.x) and (self.y >= other.y)\n",
        "\n",
        "  def draw(self):\n",
        "    print(f\"Point ({self.x}, {self.y})\")\n"
      ],
      "metadata": {
        "id": "q2VO3WZZ4iO1"
      },
      "execution_count": 12,
      "outputs": []
    },
    {
      "cell_type": "code",
      "execution_count": 20,
      "metadata": {
        "colab": {
          "base_uri": "https://localhost:8080/"
        },
        "id": "vkwVzXOo23z3",
        "outputId": "210818a2-453e-4ecf-ad97-8bb9b78701a8"
      },
      "outputs": [
        {
          "output_type": "stream",
          "name": "stdout",
          "text": [
            "<__main__.Point object at 0x7fdb7c3ff280>\n"
          ]
        }
      ],
      "source": [
        "point = Point(2, 2)\n",
        "print(point)"
      ]
    },
    {
      "cell_type": "code",
      "source": [
        "another = Point(1,1)\n",
        "print(another == point)"
      ],
      "metadata": {
        "colab": {
          "base_uri": "https://localhost:8080/"
        },
        "id": "G23bI9ix5QC8",
        "outputId": "50b7a529-b31f-4f2c-aa78-92299483ef69"
      },
      "execution_count": 21,
      "outputs": [
        {
          "output_type": "stream",
          "name": "stdout",
          "text": [
            "False\n"
          ]
        }
      ]
    },
    {
      "cell_type": "code",
      "source": [
        "print(point > another)\n",
        "print(point < another)"
      ],
      "metadata": {
        "colab": {
          "base_uri": "https://localhost:8080/"
        },
        "id": "XiCVS0mN8Kxy",
        "outputId": "6af0b10f-48e3-4c89-fd26-7818db730998"
      },
      "execution_count": 22,
      "outputs": [
        {
          "output_type": "stream",
          "name": "stdout",
          "text": [
            "True\n",
            "False\n"
          ]
        }
      ]
    }
  ]
}