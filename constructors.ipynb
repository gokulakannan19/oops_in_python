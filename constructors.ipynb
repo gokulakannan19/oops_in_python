{
  "nbformat": 4,
  "nbformat_minor": 0,
  "metadata": {
    "colab": {
      "provenance": [],
      "authorship_tag": "ABX9TyPZsXsVSCxQe75jurZloyXE",
      "include_colab_link": true
    },
    "kernelspec": {
      "name": "python3",
      "display_name": "Python 3"
    },
    "language_info": {
      "name": "python"
    }
  },
  "cells": [
    {
      "cell_type": "markdown",
      "metadata": {
        "id": "view-in-github",
        "colab_type": "text"
      },
      "source": [
        "<a href=\"https://colab.research.google.com/github/gokulakannan19/oops_in_python/blob/main/constructors.ipynb\" target=\"_parent\"><img src=\"https://colab.research.google.com/assets/colab-badge.svg\" alt=\"Open In Colab\"/></a>"
      ]
    },
    {
      "cell_type": "markdown",
      "source": [
        "Constructors:\n",
        "1. special method that is called when a new object is created.\n",
        "2. name should be __init__ => called as magic method\n",
        "3. other than self, optionally we can add additional parameters for initializing object\n",
        "\n",
        "Self: =>\n",
        "1. It is a reference to the current object.\n",
        "2. Using self we can read attributes of the current object and also call other methods in the object.\n",
        "3. When calling method of an object, we no need to pass the object, python interpretor will automatically do it.\n",
        "\n",
        "Attributes => They are variables that include data about that object\n",
        "\n"
      ],
      "metadata": {
        "id": "71GeF2uttHv5"
      }
    },
    {
      "cell_type": "code",
      "execution_count": 8,
      "metadata": {
        "id": "Il0RuHx9s5JL"
      },
      "outputs": [],
      "source": [
        "class Point():\n",
        "  def __init__(self, x, y):\n",
        "    self.x = x\n",
        "    self.y = y\n",
        "\n",
        "  def draw(self):\n",
        "    print(f\"Point ({self.x}, {self.y})\")"
      ]
    },
    {
      "cell_type": "code",
      "source": [
        "point1 = Point(1, 2)\n",
        "point2 = Point(2, 3)"
      ],
      "metadata": {
        "id": "nTjW_zDEtc4y"
      },
      "execution_count": 9,
      "outputs": []
    },
    {
      "cell_type": "code",
      "source": [
        "point1.draw()\n",
        "point2.draw()"
      ],
      "metadata": {
        "colab": {
          "base_uri": "https://localhost:8080/"
        },
        "id": "Wc1q35awth0b",
        "outputId": "06474302-ebf2-4435-bf88-bec8c88f15b3"
      },
      "execution_count": 11,
      "outputs": [
        {
          "output_type": "stream",
          "name": "stdout",
          "text": [
            "Point (1, 2)\n",
            "Point (2, 3)\n"
          ]
        }
      ]
    }
  ]
}