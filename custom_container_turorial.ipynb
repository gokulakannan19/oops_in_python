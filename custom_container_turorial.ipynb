{
  "nbformat": 4,
  "nbformat_minor": 0,
  "metadata": {
    "colab": {
      "provenance": [],
      "authorship_tag": "ABX9TyOJnIO5olc2wJCYXOjJPDOM",
      "include_colab_link": true
    },
    "kernelspec": {
      "name": "python3",
      "display_name": "Python 3"
    },
    "language_info": {
      "name": "python"
    }
  },
  "cells": [
    {
      "cell_type": "markdown",
      "metadata": {
        "id": "view-in-github",
        "colab_type": "text"
      },
      "source": [
        "<a href=\"https://colab.research.google.com/github/gokulakannan19/oops_in_python/blob/main/custom_container_turorial.ipynb\" target=\"_parent\"><img src=\"https://colab.research.google.com/assets/colab-badge.svg\" alt=\"Open In Colab\"/></a>"
      ]
    },
    {
      "cell_type": "code",
      "execution_count": 35,
      "metadata": {
        "id": "JBU_na4pIfhk"
      },
      "outputs": [],
      "source": [
        "class TagCloud:\n",
        "    def __init__(self):\n",
        "        self.tags = {}\n",
        "\n",
        "    def add(self, tag):\n",
        "        self.tags[tag.lower()] = self.tags.get(tag.lower(), 0) + 1\n",
        "\n",
        "    def __getitem__(self, tag):\n",
        "        return self.tags.get(tag.lower(), 0)\n",
        "\n",
        "    def __setitem__(self, tag, count):\n",
        "        self.tags[tag.lower()] = count\n",
        "\n",
        "    def __len__(self):\n",
        "        return len(self.tags)\n",
        "\n",
        "    def __iter__(self):\n",
        "        return iter(self.tags)\n"
      ]
    },
    {
      "cell_type": "code",
      "source": [
        "cloud = TagCloud()"
      ],
      "metadata": {
        "id": "xsnlNL5cI9iw"
      },
      "execution_count": 36,
      "outputs": []
    },
    {
      "cell_type": "code",
      "source": [
        "cloud.add(\"python\")\n",
        "cloud.add(\"python\")\n",
        "cloud.add(\"Python\")\n",
        "cloud.add(\"PYTHON\")"
      ],
      "metadata": {
        "id": "eEVEbcDsJDLL"
      },
      "execution_count": 37,
      "outputs": []
    },
    {
      "cell_type": "code",
      "source": [
        "cloud.tags"
      ],
      "metadata": {
        "colab": {
          "base_uri": "https://localhost:8080/"
        },
        "id": "JYf_OWw6JSRu",
        "outputId": "211fc654-af90-48f9-e509-2ee9e63bb1b2"
      },
      "execution_count": 38,
      "outputs": [
        {
          "output_type": "execute_result",
          "data": {
            "text/plain": [
              "{'python': 4}"
            ]
          },
          "metadata": {},
          "execution_count": 38
        }
      ]
    },
    {
      "cell_type": "code",
      "source": [
        "cloud[\"JAVA\"] = 5"
      ],
      "metadata": {
        "id": "yYNKgOXYJ4Xj"
      },
      "execution_count": 39,
      "outputs": []
    },
    {
      "cell_type": "code",
      "source": [
        "cloud.tags"
      ],
      "metadata": {
        "colab": {
          "base_uri": "https://localhost:8080/"
        },
        "id": "5W0iuKD-J9Av",
        "outputId": "a03bbaf5-d9d8-42c2-fe32-6bd97216ce8d"
      },
      "execution_count": 40,
      "outputs": [
        {
          "output_type": "execute_result",
          "data": {
            "text/plain": [
              "{'python': 4, 'java': 5}"
            ]
          },
          "metadata": {},
          "execution_count": 40
        }
      ]
    },
    {
      "cell_type": "code",
      "source": [
        "len(cloud)"
      ],
      "metadata": {
        "colab": {
          "base_uri": "https://localhost:8080/"
        },
        "id": "qV-Hbg-GKJot",
        "outputId": "95795d80-b281-483d-829c-57061a7611a4"
      },
      "execution_count": 41,
      "outputs": [
        {
          "output_type": "execute_result",
          "data": {
            "text/plain": [
              "2"
            ]
          },
          "metadata": {},
          "execution_count": 41
        }
      ]
    },
    {
      "cell_type": "code",
      "source": [
        "for tag in cloud:\n",
        "    print(tag)"
      ],
      "metadata": {
        "colab": {
          "base_uri": "https://localhost:8080/"
        },
        "id": "Skrksj_9KMAf",
        "outputId": "264fb946-43f6-4b71-a8c7-1439f3536aa8"
      },
      "execution_count": 42,
      "outputs": [
        {
          "output_type": "stream",
          "name": "stdout",
          "text": [
            "python\n",
            "java\n"
          ]
        }
      ]
    }
  ]
}