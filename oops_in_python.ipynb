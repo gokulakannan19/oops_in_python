{
  "nbformat": 4,
  "nbformat_minor": 0,
  "metadata": {
    "colab": {
      "provenance": [],
      "authorship_tag": "ABX9TyPv+0OlA2/oXO03BMIrFvLU",
      "include_colab_link": true
    },
    "kernelspec": {
      "name": "python3",
      "display_name": "Python 3"
    },
    "language_info": {
      "name": "python"
    }
  },
  "cells": [
    {
      "cell_type": "markdown",
      "metadata": {
        "id": "view-in-github",
        "colab_type": "text"
      },
      "source": [
        "<a href=\"https://colab.research.google.com/github/gokulakannan19/oops_in_python/blob/main/oops_in_python.ipynb\" target=\"_parent\"><img src=\"https://colab.research.google.com/assets/colab-badge.svg\" alt=\"Open In Colab\"/></a>"
      ]
    },
    {
      "cell_type": "markdown",
      "source": [
        "Class:\n",
        "1. It is a blueprint of creating new objects\n",
        "2. Every object in python is created using class\n",
        "  Eg: int => It is a built in class\n",
        "3. An object is an instance of a class\n",
        "  Eg: Class: Human\n",
        "      objects: John, Mary"
      ],
      "metadata": {
        "id": "_ZHVgVz3j6FD"
      }
    },
    {
      "cell_type": "markdown",
      "source": [
        "How to create a Class in python?\n",
        "1. Use PascalNamingConvention => First letter of every word should be in upper case and we should not use underscore to seperate letter.\n",
        "2. All functions or methods in the classes should have atleast one parameter and that is self\n",
        "\n",
        "How to Create an object\n",
        "  point = Point()\n",
        "\n",
        "3. The object should be of type class\n",
        "  Eg; type(obj)\n",
        "4. isinstance(object, class) => to check whether it is the instance of the respective class"
      ],
      "metadata": {
        "id": "cQuxf_VXkcQq"
      }
    },
    {
      "cell_type": "markdown",
      "source": [
        "Defining a class"
      ],
      "metadata": {
        "id": "FNTNzwp7ou4n"
      }
    },
    {
      "cell_type": "code",
      "execution_count": 5,
      "metadata": {
        "id": "jgcYg6qFjhDq"
      },
      "outputs": [],
      "source": [
        "class Point:\n",
        "  def draw(self):\n",
        "    print(\"draw\")"
      ]
    },
    {
      "cell_type": "markdown",
      "source": [
        "Creating an object"
      ],
      "metadata": {
        "id": "HVCDfFSNo2Zq"
      }
    },
    {
      "cell_type": "code",
      "source": [
        "point = Point()"
      ],
      "metadata": {
        "id": "8WOOVwSfo4Ke"
      },
      "execution_count": 6,
      "outputs": []
    },
    {
      "cell_type": "markdown",
      "source": [
        "The main in the answer is the name of the module"
      ],
      "metadata": {
        "id": "i-VYBwBFo_OX"
      }
    },
    {
      "cell_type": "code",
      "source": [
        "print(type(point))"
      ],
      "metadata": {
        "colab": {
          "base_uri": "https://localhost:8080/"
        },
        "id": "_gP2BOAKo6rF",
        "outputId": "5013a258-5e59-4dbc-c246-3091270ae894"
      },
      "execution_count": 7,
      "outputs": [
        {
          "output_type": "stream",
          "name": "stdout",
          "text": [
            "<class '__main__.Point'>\n"
          ]
        }
      ]
    },
    {
      "cell_type": "markdown",
      "source": [
        "To check whether the point object is the instance of point class"
      ],
      "metadata": {
        "id": "Nb0CvouMpInc"
      }
    },
    {
      "cell_type": "code",
      "source": [
        "print(isinstance(point, Point))"
      ],
      "metadata": {
        "colab": {
          "base_uri": "https://localhost:8080/"
        },
        "id": "ST8A4NUMpFLb",
        "outputId": "b09eb0b5-33be-46d9-bd70-999b2d9335b9"
      },
      "execution_count": 8,
      "outputs": [
        {
          "output_type": "stream",
          "name": "stdout",
          "text": [
            "True\n"
          ]
        }
      ]
    },
    {
      "cell_type": "markdown",
      "source": [
        "Constructors:\n",
        "1. special method that is called when a new object is created.\n",
        "2. name should be __init__ => called as magic method\n",
        "3. other than self, optionally we can add additional parameters for initializing object\n",
        "\n",
        "Self: =>\n",
        "1. It is a reference to the current object.\n",
        "2. Using self we can read attributes of the current object and also call other methods in the object.\n",
        "3. When calling method of an object, we no need to pass the object, python interpretor will automatically do it.\n",
        "\n",
        "Attributes => They are variables that include data about that object\n",
        "\n",
        "The attributes\n",
        "\n"
      ],
      "metadata": {
        "id": "DwGh9YykqADZ"
      }
    }
  ]
}